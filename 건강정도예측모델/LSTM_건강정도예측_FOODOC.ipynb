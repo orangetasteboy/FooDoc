{
  "cells": [
    {
      "cell_type": "markdown",
      "metadata": {
        "id": "_lQr5fO2j9QW"
      },
      "source": [
        "# LSTM을 활용한 주가 예측 모델"
      ]
    },
    {
      "cell_type": "markdown",
      "source": [
        "구글 드라이브랑 colab을 연동해줌\n",
        "\n",
        "colab에 파일 올려두고 이따 가져올 예정이니 꼭 필요함"
      ],
      "metadata": {
        "id": "vsVJPWXk34ky"
      }
    },
    {
      "cell_type": "code",
      "source": [
        "from google.colab import drive\n",
        "drive.mount('/content/drive')"
      ],
      "metadata": {
        "colab": {
          "base_uri": "https://localhost:8080/"
        },
        "id": "gesWfnKOk9ap",
        "outputId": "0b52447b-9e02-4382-fefd-11298bebb35c"
      },
      "execution_count": 149,
      "outputs": [
        {
          "output_type": "stream",
          "name": "stdout",
          "text": [
            "Drive already mounted at /content/drive; to attempt to forcibly remount, call drive.mount(\"/content/drive\", force_remount=True).\n"
          ]
        }
      ]
    },
    {
      "cell_type": "markdown",
      "metadata": {
        "id": "4szsngYsj9Ql"
      },
      "source": [
        "## 필요한 모듈 import"
      ]
    },
    {
      "cell_type": "code",
      "execution_count": 150,
      "metadata": {
        "id": "SohNEYCGj9Qm"
      },
      "outputs": [],
      "source": [
        "import pandas as pd\n",
        "import numpy as np\n",
        "import matplotlib.pyplot as plt\n",
        "import seaborn as sns\n",
        "import warnings\n",
        "import os\n",
        "\n",
        "%matplotlib inline\n",
        "warnings.filterwarnings('ignore')\n",
        "\n",
        "plt.rcParams['font.family'] = 'NanumGothic'"
      ]
    },
    {
      "cell_type": "markdown",
      "metadata": {
        "id": "O_rcqTvAj9Qo"
      },
      "source": [
        "## 데이터 (FinanceDataReader)"
      ]
    },
    {
      "cell_type": "markdown",
      "source": [
        "구글 드라이브에 데이터셋 파일 (csv파일) 올려두고 \n",
        "\n",
        "colab 왼쪽에 파일 버튼 눌러서 파일 찾은 다음에\n",
        "\n",
        "파일 오른쫀 마우스 클릭해서 경로복사, 붙여넣기"
      ],
      "metadata": {
        "id": "Tk815bTS30gt"
      }
    },
    {
      "cell_type": "code",
      "source": [
        "import pandas as pd\n",
        "stock = pd.read_csv('/content/drive/MyDrive/kaggle/나의음식dataset.csv')"
      ],
      "metadata": {
        "id": "qXHi3FyQlJ2b"
      },
      "execution_count": 152,
      "outputs": []
    },
    {
      "cell_type": "code",
      "execution_count": 153,
      "metadata": {
        "colab": {
          "base_uri": "https://localhost:8080/",
          "height": 206
        },
        "id": "0yAKE9Ag0l4S",
        "outputId": "5eb9503e-b589-467e-dfb3-ff4f2e04fe13"
      },
      "outputs": [
        {
          "output_type": "execute_result",
          "data": {
            "text/plain": [
              "         Date  ENERGY  WATER  PROTEIN   FAT  TANSUHWAMUL  CHONGDANGLYU  \\\n",
              "0  2023-02-02     158  63.00     3.60  3.20        28.80          0.00   \n",
              "1  2023-02-03     158  63.00     3.60  3.20        28.80          0.00   \n",
              "2  2023-02-04     127  70.40    28.09  0.93         0.00          0.00   \n",
              "3  2023-02-05     151  62.90     3.80  1.70        30.20          0.00   \n",
              "4  2023-02-06     153  73.42     0.95  9.91        14.89         12.19   \n",
              "\n",
              "     Health  \n",
              "0  0.068122  \n",
              "1  0.136243  \n",
              "2  0.191732  \n",
              "3  0.257921  \n",
              "4  0.318329  "
            ],
            "text/html": [
              "\n",
              "  <div id=\"df-1b9589ee-7147-4c66-b284-7dc128a67740\">\n",
              "    <div class=\"colab-df-container\">\n",
              "      <div>\n",
              "<style scoped>\n",
              "    .dataframe tbody tr th:only-of-type {\n",
              "        vertical-align: middle;\n",
              "    }\n",
              "\n",
              "    .dataframe tbody tr th {\n",
              "        vertical-align: top;\n",
              "    }\n",
              "\n",
              "    .dataframe thead th {\n",
              "        text-align: right;\n",
              "    }\n",
              "</style>\n",
              "<table border=\"1\" class=\"dataframe\">\n",
              "  <thead>\n",
              "    <tr style=\"text-align: right;\">\n",
              "      <th></th>\n",
              "      <th>Date</th>\n",
              "      <th>ENERGY</th>\n",
              "      <th>WATER</th>\n",
              "      <th>PROTEIN</th>\n",
              "      <th>FAT</th>\n",
              "      <th>TANSUHWAMUL</th>\n",
              "      <th>CHONGDANGLYU</th>\n",
              "      <th>Health</th>\n",
              "    </tr>\n",
              "  </thead>\n",
              "  <tbody>\n",
              "    <tr>\n",
              "      <th>0</th>\n",
              "      <td>2023-02-02</td>\n",
              "      <td>158</td>\n",
              "      <td>63.00</td>\n",
              "      <td>3.60</td>\n",
              "      <td>3.20</td>\n",
              "      <td>28.80</td>\n",
              "      <td>0.00</td>\n",
              "      <td>0.068122</td>\n",
              "    </tr>\n",
              "    <tr>\n",
              "      <th>1</th>\n",
              "      <td>2023-02-03</td>\n",
              "      <td>158</td>\n",
              "      <td>63.00</td>\n",
              "      <td>3.60</td>\n",
              "      <td>3.20</td>\n",
              "      <td>28.80</td>\n",
              "      <td>0.00</td>\n",
              "      <td>0.136243</td>\n",
              "    </tr>\n",
              "    <tr>\n",
              "      <th>2</th>\n",
              "      <td>2023-02-04</td>\n",
              "      <td>127</td>\n",
              "      <td>70.40</td>\n",
              "      <td>28.09</td>\n",
              "      <td>0.93</td>\n",
              "      <td>0.00</td>\n",
              "      <td>0.00</td>\n",
              "      <td>0.191732</td>\n",
              "    </tr>\n",
              "    <tr>\n",
              "      <th>3</th>\n",
              "      <td>2023-02-05</td>\n",
              "      <td>151</td>\n",
              "      <td>62.90</td>\n",
              "      <td>3.80</td>\n",
              "      <td>1.70</td>\n",
              "      <td>30.20</td>\n",
              "      <td>0.00</td>\n",
              "      <td>0.257921</td>\n",
              "    </tr>\n",
              "    <tr>\n",
              "      <th>4</th>\n",
              "      <td>2023-02-06</td>\n",
              "      <td>153</td>\n",
              "      <td>73.42</td>\n",
              "      <td>0.95</td>\n",
              "      <td>9.91</td>\n",
              "      <td>14.89</td>\n",
              "      <td>12.19</td>\n",
              "      <td>0.318329</td>\n",
              "    </tr>\n",
              "  </tbody>\n",
              "</table>\n",
              "</div>\n",
              "      <button class=\"colab-df-convert\" onclick=\"convertToInteractive('df-1b9589ee-7147-4c66-b284-7dc128a67740')\"\n",
              "              title=\"Convert this dataframe to an interactive table.\"\n",
              "              style=\"display:none;\">\n",
              "        \n",
              "  <svg xmlns=\"http://www.w3.org/2000/svg\" height=\"24px\"viewBox=\"0 0 24 24\"\n",
              "       width=\"24px\">\n",
              "    <path d=\"M0 0h24v24H0V0z\" fill=\"none\"/>\n",
              "    <path d=\"M18.56 5.44l.94 2.06.94-2.06 2.06-.94-2.06-.94-.94-2.06-.94 2.06-2.06.94zm-11 1L8.5 8.5l.94-2.06 2.06-.94-2.06-.94L8.5 2.5l-.94 2.06-2.06.94zm10 10l.94 2.06.94-2.06 2.06-.94-2.06-.94-.94-2.06-.94 2.06-2.06.94z\"/><path d=\"M17.41 7.96l-1.37-1.37c-.4-.4-.92-.59-1.43-.59-.52 0-1.04.2-1.43.59L10.3 9.45l-7.72 7.72c-.78.78-.78 2.05 0 2.83L4 21.41c.39.39.9.59 1.41.59.51 0 1.02-.2 1.41-.59l7.78-7.78 2.81-2.81c.8-.78.8-2.07 0-2.86zM5.41 20L4 18.59l7.72-7.72 1.47 1.35L5.41 20z\"/>\n",
              "  </svg>\n",
              "      </button>\n",
              "      \n",
              "  <style>\n",
              "    .colab-df-container {\n",
              "      display:flex;\n",
              "      flex-wrap:wrap;\n",
              "      gap: 12px;\n",
              "    }\n",
              "\n",
              "    .colab-df-convert {\n",
              "      background-color: #E8F0FE;\n",
              "      border: none;\n",
              "      border-radius: 50%;\n",
              "      cursor: pointer;\n",
              "      display: none;\n",
              "      fill: #1967D2;\n",
              "      height: 32px;\n",
              "      padding: 0 0 0 0;\n",
              "      width: 32px;\n",
              "    }\n",
              "\n",
              "    .colab-df-convert:hover {\n",
              "      background-color: #E2EBFA;\n",
              "      box-shadow: 0px 1px 2px rgba(60, 64, 67, 0.3), 0px 1px 3px 1px rgba(60, 64, 67, 0.15);\n",
              "      fill: #174EA6;\n",
              "    }\n",
              "\n",
              "    [theme=dark] .colab-df-convert {\n",
              "      background-color: #3B4455;\n",
              "      fill: #D2E3FC;\n",
              "    }\n",
              "\n",
              "    [theme=dark] .colab-df-convert:hover {\n",
              "      background-color: #434B5C;\n",
              "      box-shadow: 0px 1px 3px 1px rgba(0, 0, 0, 0.15);\n",
              "      filter: drop-shadow(0px 1px 2px rgba(0, 0, 0, 0.3));\n",
              "      fill: #FFFFFF;\n",
              "    }\n",
              "  </style>\n",
              "\n",
              "      <script>\n",
              "        const buttonEl =\n",
              "          document.querySelector('#df-1b9589ee-7147-4c66-b284-7dc128a67740 button.colab-df-convert');\n",
              "        buttonEl.style.display =\n",
              "          google.colab.kernel.accessAllowed ? 'block' : 'none';\n",
              "\n",
              "        async function convertToInteractive(key) {\n",
              "          const element = document.querySelector('#df-1b9589ee-7147-4c66-b284-7dc128a67740');\n",
              "          const dataTable =\n",
              "            await google.colab.kernel.invokeFunction('convertToInteractive',\n",
              "                                                     [key], {});\n",
              "          if (!dataTable) return;\n",
              "\n",
              "          const docLinkHtml = 'Like what you see? Visit the ' +\n",
              "            '<a target=\"_blank\" href=https://colab.research.google.com/notebooks/data_table.ipynb>data table notebook</a>'\n",
              "            + ' to learn more about interactive tables.';\n",
              "          element.innerHTML = '';\n",
              "          dataTable['output_type'] = 'display_data';\n",
              "          await google.colab.output.renderOutput(dataTable, element);\n",
              "          const docLink = document.createElement('div');\n",
              "          docLink.innerHTML = docLinkHtml;\n",
              "          element.appendChild(docLink);\n",
              "        }\n",
              "      </script>\n",
              "    </div>\n",
              "  </div>\n",
              "  "
            ]
          },
          "metadata": {},
          "execution_count": 153
        }
      ],
      "source": [
        "stock.head()\n",
        "# 파일 요약 "
      ]
    },
    {
      "cell_type": "markdown",
      "metadata": {
        "id": "5FBTlube0l4d"
      },
      "source": [
        "## 시각화"
      ]
    },
    {
      "cell_type": "markdown",
      "source": [
        "내 데이터가 건강정도를 기준으로 어떻게 분포가 되어있나\n",
        "\n",
        "하루마다 음식이 점점 쌓이며 건강정도가 올라갔다가 다음날이 되어서 초기화 되는 형태\n",
        "\n",
        "건강 정도는 0~1 사이의 값을 가짐"
      ],
      "metadata": {
        "id": "gTbOjDKD3xW7"
      }
    },
    {
      "cell_type": "code",
      "execution_count": 155,
      "metadata": {
        "colab": {
          "base_uri": "https://localhost:8080/",
          "height": 569
        },
        "id": "MWcaWEa80l4o",
        "outputId": "5a8bba61-9bc0-4cf8-facf-994e402572ce"
      },
      "outputs": [
        {
          "output_type": "execute_result",
          "data": {
            "text/plain": [
              "Text(0, 0.5, 'price')"
            ]
          },
          "metadata": {},
          "execution_count": 155
        },
        {
          "output_type": "display_data",
          "data": {
            "text/plain": [
              "<Figure size 1152x648 with 1 Axes>"
            ],
            "image/png": "[encoded data removed]"
          },
          "metadata": {
            "needs_background": "light"
          }
        }
      ],
      "source": [
        "plt.figure(figsize=(16, 9))\n",
        "sns.lineplot(y=stock['Health'], x=stock.index)\n",
        "plt.xlabel('time')\n",
        "plt.ylabel('price')"
      ]
    },
    {
      "cell_type": "markdown",
      "metadata": {
        "id": "zpfrz_E-j9Q8"
      },
      "source": [
        "## 데이터 전처리"
      ]
    },
    {
      "cell_type": "markdown",
      "source": [
        "데이터의 크기가 각각 다르기 때문에 정규화라는 작업을 해줍니다\n",
        "\n",
        "0~1사이의 값으로 모든 데이터 값을 비율로 바꿔줌"
      ],
      "metadata": {
        "id": "wwC3mj-93sU6"
      }
    },
    {
      "cell_type": "code",
      "execution_count": 179,
      "metadata": {
        "colab": {
          "base_uri": "https://localhost:8080/"
        },
        "id": "4-4PgRMZ0l5Q",
        "outputId": "e84eb5bd-4046-4eca-c1c4-885461d90bde"
      },
      "outputs": [
        {
          "output_type": "execute_result",
          "data": {
            "text/plain": [
              "array([[0.29245283, 0.09764186, 0.94736842, 0.02234047],\n",
              "       [0.29245283, 0.09764186, 0.94736842, 0.14280562],\n",
              "       [0.        , 1.        , 0.        , 0.24093032],\n",
              "       ...,\n",
              "       [0.29245283, 0.09764186, 0.94736842, 0.36667848],\n",
              "       [1.        , 0.38135593, 1.        , 0.54047984],\n",
              "       [0.29245283, 0.09764186, 0.94736842, 0.66094499]])"
            ]
          },
          "metadata": {},
          "execution_count": 179
        }
      ],
      "source": [
        "from sklearn.preprocessing import MinMaxScaler\n",
        "\n",
        "scaler = MinMaxScaler()\n",
        "scale_cols = ['ENERGY', 'PROTEIN', 'TANSUHWAMUL', 'Health']\n",
        "# 위 column값들은 각각 에너지, 단백질, 탄수화물, 건강 4개의 컬럼 데이터를 가져와 사용\n",
        "scaled = scaler.fit_transform(stock[scale_cols])\n",
        "scaled"
      ]
    },
    {
      "cell_type": "markdown",
      "source": [
        "데이터셋을 판다스의 데이터프레임으로 변환후 df변수에 저장"
      ],
      "metadata": {
        "id": "1UhdpFCX3pdw"
      }
    },
    {
      "cell_type": "code",
      "execution_count": 180,
      "metadata": {
        "id": "dIJjE21B0l5m"
      },
      "outputs": [],
      "source": [
        "df = pd.DataFrame(scaled, columns=scale_cols)"
      ]
    },
    {
      "cell_type": "markdown",
      "metadata": {
        "id": "HQgMwd-8j9Q-"
      },
      "source": [
        "## train / test 분할"
      ]
    },
    {
      "cell_type": "markdown",
      "source": [
        "훈련 용 데이터랑\n",
        "\n",
        "테스트 용 데이터를 분리시켜줘야 함"
      ],
      "metadata": {
        "id": "Hr0i-htm4AXt"
      }
    },
    {
      "cell_type": "code",
      "execution_count": 181,
      "metadata": {
        "id": "YC_pn2iSj9Q-"
      },
      "outputs": [],
      "source": [
        "from sklearn.model_selection import train_test_split"
      ]
    },
    {
      "cell_type": "code",
      "execution_count": 182,
      "metadata": {
        "id": "sBpkUhomj9Q-"
      },
      "outputs": [],
      "source": [
        "x_train, x_test, y_train, y_test = train_test_split(df.drop('Health', 1), df['Health'], test_size=0.2, random_state=0, shuffle=False)"
      ]
    },
    {
      "cell_type": "markdown",
      "source": [
        "훈련용 train의 경우 206개의 데이터가 존재하며 에너지, 단백질, 탄수화물 3개로 구성됨"
      ],
      "metadata": {
        "id": "jnCEBWjx4Dsl"
      }
    },
    {
      "cell_type": "code",
      "execution_count": 183,
      "metadata": {
        "colab": {
          "base_uri": "https://localhost:8080/"
        },
        "id": "2pkm_UmJj9Q_",
        "outputId": "4b008808-894c-44a8-af73-5a5214618567"
      },
      "outputs": [
        {
          "output_type": "execute_result",
          "data": {
            "text/plain": [
              "((206, 3), (206,))"
            ]
          },
          "metadata": {},
          "execution_count": 183
        }
      ],
      "source": [
        "x_train.shape, y_train.shape"
      ]
    },
    {
      "cell_type": "markdown",
      "source": [
        "test 데이터는 훈련 데이터와 형태가 같지만 개수가 훨씬 적음"
      ],
      "metadata": {
        "id": "Jd2nVUUb4NWL"
      }
    },
    {
      "cell_type": "code",
      "execution_count": 184,
      "metadata": {
        "colab": {
          "base_uri": "https://localhost:8080/"
        },
        "id": "-63UJZwvj9Q_",
        "outputId": "17c01ed9-bf9a-4c28-c1e6-8a7e12bd8544"
      },
      "outputs": [
        {
          "output_type": "execute_result",
          "data": {
            "text/plain": [
              "((52, 3), (52,))"
            ]
          },
          "metadata": {},
          "execution_count": 184
        }
      ],
      "source": [
        "x_test.shape, y_test.shape"
      ]
    },
    {
      "cell_type": "markdown",
      "source": [
        "훈련 데이터는 이렇게 되어있다 확인"
      ],
      "metadata": {
        "id": "MkHr0cqV4RWw"
      }
    },
    {
      "cell_type": "code",
      "execution_count": 185,
      "metadata": {
        "colab": {
          "base_uri": "https://localhost:8080/",
          "height": 423
        },
        "id": "wqcZcpZfj9RB",
        "outputId": "e66334f6-931e-48b0-e1dd-1836d4da0c81"
      },
      "outputs": [
        {
          "output_type": "execute_result",
          "data": {
            "text/plain": [
              "       ENERGY   PROTEIN  TANSUHWAMUL\n",
              "0    0.292453  0.097642     0.947368\n",
              "1    0.292453  0.097642     0.947368\n",
              "2    0.000000  1.000000     0.000000\n",
              "3    0.226415  0.105011     0.993421\n",
              "4    0.245283  0.000000     0.489803\n",
              "..        ...       ...          ...\n",
              "201  0.292453  0.097642     0.947368\n",
              "202  0.292453  0.097642     0.947368\n",
              "203  1.000000  0.381356     1.000000\n",
              "204  0.292453  0.097642     0.947368\n",
              "205  0.292453  0.097642     0.947368\n",
              "\n",
              "[206 rows x 3 columns]"
            ],
            "text/html": [
              "\n",
              "  <div id=\"df-e9d70ede-d547-4864-8112-731fd5fddc31\">\n",
              "    <div class=\"colab-df-container\">\n",
              "      <div>\n",
              "<style scoped>\n",
              "    .dataframe tbody tr th:only-of-type {\n",
              "        vertical-align: middle;\n",
              "    }\n",
              "\n",
              "    .dataframe tbody tr th {\n",
              "        vertical-align: top;\n",
              "    }\n",
              "\n",
              "    .dataframe thead th {\n",
              "        text-align: right;\n",
              "    }\n",
              "</style>\n",
              "<table border=\"1\" class=\"dataframe\">\n",
              "  <thead>\n",
              "    <tr style=\"text-align: right;\">\n",
              "      <th></th>\n",
              "      <th>ENERGY</th>\n",
              "      <th>PROTEIN</th>\n",
              "      <th>TANSUHWAMUL</th>\n",
              "    </tr>\n",
              "  </thead>\n",
              "  <tbody>\n",
              "    <tr>\n",
              "      <th>0</th>\n",
              "      <td>0.292453</td>\n",
              "      <td>0.097642</td>\n",
              "      <td>0.947368</td>\n",
              "    </tr>\n",
              "    <tr>\n",
              "      <th>1</th>\n",
              "      <td>0.292453</td>\n",
              "      <td>0.097642</td>\n",
              "      <td>0.947368</td>\n",
              "    </tr>\n",
              "    <tr>\n",
              "      <th>2</th>\n",
              "      <td>0.000000</td>\n",
              "      <td>1.000000</td>\n",
              "      <td>0.000000</td>\n",
              "    </tr>\n",
              "    <tr>\n",
              "      <th>3</th>\n",
              "      <td>0.226415</td>\n",
              "      <td>0.105011</td>\n",
              "      <td>0.993421</td>\n",
              "    </tr>\n",
              "    <tr>\n",
              "      <th>4</th>\n",
              "      <td>0.245283</td>\n",
              "      <td>0.000000</td>\n",
              "      <td>0.489803</td>\n",
              "    </tr>\n",
              "    <tr>\n",
              "      <th>...</th>\n",
              "      <td>...</td>\n",
              "      <td>...</td>\n",
              "      <td>...</td>\n",
              "    </tr>\n",
              "    <tr>\n",
              "      <th>201</th>\n",
              "      <td>0.292453</td>\n",
              "      <td>0.097642</td>\n",
              "      <td>0.947368</td>\n",
              "    </tr>\n",
              "    <tr>\n",
              "      <th>202</th>\n",
              "      <td>0.292453</td>\n",
              "      <td>0.097642</td>\n",
              "      <td>0.947368</td>\n",
              "    </tr>\n",
              "    <tr>\n",
              "      <th>203</th>\n",
              "      <td>1.000000</td>\n",
              "      <td>0.381356</td>\n",
              "      <td>1.000000</td>\n",
              "    </tr>\n",
              "    <tr>\n",
              "      <th>204</th>\n",
              "      <td>0.292453</td>\n",
              "      <td>0.097642</td>\n",
              "      <td>0.947368</td>\n",
              "    </tr>\n",
              "    <tr>\n",
              "      <th>205</th>\n",
              "      <td>0.292453</td>\n",
              "      <td>0.097642</td>\n",
              "      <td>0.947368</td>\n",
              "    </tr>\n",
              "  </tbody>\n",
              "</table>\n",
              "<p>206 rows × 3 columns</p>\n",
              "</div>\n",
              "      <button class=\"colab-df-convert\" onclick=\"convertToInteractive('df-e9d70ede-d547-4864-8112-731fd5fddc31')\"\n",
              "              title=\"Convert this dataframe to an interactive table.\"\n",
              "              style=\"display:none;\">\n",
              "        \n",
              "  <svg xmlns=\"http://www.w3.org/2000/svg\" height=\"24px\"viewBox=\"0 0 24 24\"\n",
              "       width=\"24px\">\n",
              "    <path d=\"M0 0h24v24H0V0z\" fill=\"none\"/>\n",
              "    <path d=\"M18.56 5.44l.94 2.06.94-2.06 2.06-.94-2.06-.94-.94-2.06-.94 2.06-2.06.94zm-11 1L8.5 8.5l.94-2.06 2.06-.94-2.06-.94L8.5 2.5l-.94 2.06-2.06.94zm10 10l.94 2.06.94-2.06 2.06-.94-2.06-.94-.94-2.06-.94 2.06-2.06.94z\"/><path d=\"M17.41 7.96l-1.37-1.37c-.4-.4-.92-.59-1.43-.59-.52 0-1.04.2-1.43.59L10.3 9.45l-7.72 7.72c-.78.78-.78 2.05 0 2.83L4 21.41c.39.39.9.59 1.41.59.51 0 1.02-.2 1.41-.59l7.78-7.78 2.81-2.81c.8-.78.8-2.07 0-2.86zM5.41 20L4 18.59l7.72-7.72 1.47 1.35L5.41 20z\"/>\n",
              "  </svg>\n",
              "      </button>\n",
              "      \n",
              "  <style>\n",
              "    .colab-df-container {\n",
              "      display:flex;\n",
              "      flex-wrap:wrap;\n",
              "      gap: 12px;\n",
              "    }\n",
              "\n",
              "    .colab-df-convert {\n",
              "      background-color: #E8F0FE;\n",
              "      border: none;\n",
              "      border-radius: 50%;\n",
              "      cursor: pointer;\n",
              "      display: none;\n",
              "      fill: #1967D2;\n",
              "      height: 32px;\n",
              "      padding: 0 0 0 0;\n",
              "      width: 32px;\n",
              "    }\n",
              "\n",
              "    .colab-df-convert:hover {\n",
              "      background-color: #E2EBFA;\n",
              "      box-shadow: 0px 1px 2px rgba(60, 64, 67, 0.3), 0px 1px 3px 1px rgba(60, 64, 67, 0.15);\n",
              "      fill: #174EA6;\n",
              "    }\n",
              "\n",
              "    [theme=dark] .colab-df-convert {\n",
              "      background-color: #3B4455;\n",
              "      fill: #D2E3FC;\n",
              "    }\n",
              "\n",
              "    [theme=dark] .colab-df-convert:hover {\n",
              "      background-color: #434B5C;\n",
              "      box-shadow: 0px 1px 3px 1px rgba(0, 0, 0, 0.15);\n",
              "      filter: drop-shadow(0px 1px 2px rgba(0, 0, 0, 0.3));\n",
              "      fill: #FFFFFF;\n",
              "    }\n",
              "  </style>\n",
              "\n",
              "      <script>\n",
              "        const buttonEl =\n",
              "          document.querySelector('#df-e9d70ede-d547-4864-8112-731fd5fddc31 button.colab-df-convert');\n",
              "        buttonEl.style.display =\n",
              "          google.colab.kernel.accessAllowed ? 'block' : 'none';\n",
              "\n",
              "        async function convertToInteractive(key) {\n",
              "          const element = document.querySelector('#df-e9d70ede-d547-4864-8112-731fd5fddc31');\n",
              "          const dataTable =\n",
              "            await google.colab.kernel.invokeFunction('convertToInteractive',\n",
              "                                                     [key], {});\n",
              "          if (!dataTable) return;\n",
              "\n",
              "          const docLinkHtml = 'Like what you see? Visit the ' +\n",
              "            '<a target=\"_blank\" href=https://colab.research.google.com/notebooks/data_table.ipynb>data table notebook</a>'\n",
              "            + ' to learn more about interactive tables.';\n",
              "          element.innerHTML = '';\n",
              "          dataTable['output_type'] = 'display_data';\n",
              "          await google.colab.output.renderOutput(dataTable, element);\n",
              "          const docLink = document.createElement('div');\n",
              "          docLink.innerHTML = docLinkHtml;\n",
              "          element.appendChild(docLink);\n",
              "        }\n",
              "      </script>\n",
              "    </div>\n",
              "  </div>\n",
              "  "
            ]
          },
          "metadata": {},
          "execution_count": 185
        }
      ],
      "source": [
        "x_train"
      ]
    },
    {
      "cell_type": "markdown",
      "metadata": {
        "id": "Lxr_I0U3j9RD"
      },
      "source": [
        "## TensroFlow Dataset을 활용한 시퀀스 데이터셋 구성"
      ]
    },
    {
      "cell_type": "markdown",
      "source": [
        "이 과정은 이해 안하고 넘어가도 됨 \n",
        "\n",
        "우리가 다룰 데이터가 시계열 데이터로 시간이 포함되어 있어서 이를 고려하여 만들어준 함수임"
      ],
      "metadata": {
        "id": "MacS6lbP4UOv"
      }
    },
    {
      "cell_type": "code",
      "execution_count": 166,
      "metadata": {
        "id": "93UsHWh4j9RE"
      },
      "outputs": [],
      "source": [
        "import tensorflow as tf"
      ]
    },
    {
      "cell_type": "code",
      "execution_count": 167,
      "metadata": {
        "id": "elAsvMa9j9RF"
      },
      "outputs": [],
      "source": [
        "def windowed_dataset(series, window_size, batch_size, shuffle):\n",
        "    series = tf.expand_dims(series, axis=-1)\n",
        "    ds = tf.data.Dataset.from_tensor_slices(series)\n",
        "    ds = ds.window(window_size + 1, shift=1, drop_remainder=True)\n",
        "    ds = ds.flat_map(lambda w: w.batch(window_size + 1))\n",
        "    if shuffle:\n",
        "        ds = ds.shuffle(1000)\n",
        "    ds = ds.map(lambda w: (w[:-1], w[-1]))\n",
        "    return ds.batch(batch_size).prefetch(1)"
      ]
    },
    {
      "cell_type": "markdown",
      "metadata": {
        "id": "pUItsKrIj9RF"
      },
      "source": [
        "Hyperparameter를 정의합니다."
      ]
    },
    {
      "cell_type": "markdown",
      "source": [
        "batch_size는 한번의 훈련에 얼만큼 데이터를 나눠 훈련시킬것이냐 라는 것"
      ],
      "metadata": {
        "id": "XHhJ6Lwu4c3l"
      }
    },
    {
      "cell_type": "code",
      "execution_count": 168,
      "metadata": {
        "id": "tUW4fI_Oj9RG"
      },
      "outputs": [],
      "source": [
        "WINDOW_SIZE=20\n",
        "BATCH_SIZE=32"
      ]
    },
    {
      "cell_type": "code",
      "execution_count": 169,
      "metadata": {
        "id": "q8L6qfv2j9RG"
      },
      "outputs": [],
      "source": [
        "# trian_data는 학습용 데이터셋, test_data는 검증용 데이터셋 입니다.\n",
        "train_data = windowed_dataset(y_train, WINDOW_SIZE, BATCH_SIZE, True)\n",
        "test_data = windowed_dataset(y_test, WINDOW_SIZE, BATCH_SIZE, False)"
      ]
    },
    {
      "cell_type": "code",
      "execution_count": 170,
      "metadata": {
        "colab": {
          "base_uri": "https://localhost:8080/"
        },
        "id": "sdK83hDjj9RG",
        "outputId": "8321dbb6-94b4-46f9-b877-4aea8fc6c5d9"
      },
      "outputs": [
        {
          "output_type": "stream",
          "name": "stdout",
          "text": [
            "데이터셋(X) 구성(batch_size, window_size, feature갯수): (32, 20, 1)\n",
            "데이터셋(Y) 구성(batch_size, window_size, feature갯수): (32, 1)\n"
          ]
        }
      ],
      "source": [
        "# 아래의 코드로 데이터셋의 구성을 확인해 볼 수 있습니다.\n",
        "# X: (batch_size, window_size, feature)\n",
        "# Y: (batch_size, feature)\n",
        "for data in train_data.take(1):\n",
        "    print(f'데이터셋(X) 구성(batch_size, window_size, feature갯수): {data[0].shape}')\n",
        "    print(f'데이터셋(Y) 구성(batch_size, window_size, feature갯수): {data[1].shape}')"
      ]
    },
    {
      "cell_type": "markdown",
      "metadata": {
        "id": "8aYD94ydj9RH"
      },
      "source": [
        "## 모델"
      ]
    },
    {
      "cell_type": "markdown",
      "source": [
        "tensorflow 모델을 사용\n",
        "\n",
        "LSTM 모델을 사용하였고, 내가 좀 바꾸긴함 우리 음식 데이터에 맞게 하려면 모델 층을 좀 깊게 해야해서 Dense라는 층을 더 추가해줌\n",
        "\n",
        "이하 모델을 위한 파라미터 설정들임"
      ],
      "metadata": {
        "id": "TZjzJGas4nv8"
      }
    },
    {
      "cell_type": "code",
      "execution_count": 196,
      "metadata": {
        "id": "mAkmGu1j0l8M"
      },
      "outputs": [],
      "source": [
        "from tensorflow.keras.models import Sequential\n",
        "from tensorflow.keras.layers import Dense, LSTM, Conv1D, Lambda\n",
        "from tensorflow.keras.losses import Huber\n",
        "from tensorflow.keras.optimizers import Adam\n",
        "from tensorflow.keras.callbacks import EarlyStopping, ModelCheckpoint\n",
        "\n",
        "\n",
        "model = Sequential([\n",
        "    # 1차원 feature map 생성\n",
        "    Conv1D(filters=32, kernel_size=4,\n",
        "           padding=\"causal\",\n",
        "           activation=\"relu\",\n",
        "           input_shape=[WINDOW_SIZE, 1]),\n",
        "    # LSTM\n",
        "    LSTM(64, activation='tanh'),\n",
        "    Dense(64, activation=\"ELU\"),\n",
        "    Dense(32, activation=\"ELU\"),\n",
        "    Dense(16, activation=\"ELU\"),\n",
        "    Dense(1, activation=\"sigmoid\"),\n",
        "])"
      ]
    },
    {
      "cell_type": "code",
      "execution_count": 197,
      "metadata": {
        "id": "xShll_EX0l8T"
      },
      "outputs": [],
      "source": [
        "# Sequence 학습에 비교적 좋은 퍼포먼스를 내는 Huber()를 사용합니다.\n",
        "loss = Huber()\n",
        "optimizer = Adam(0.0005)\n",
        "model.compile(loss=Huber(), optimizer=optimizer, metrics=['mse'])"
      ]
    },
    {
      "cell_type": "code",
      "execution_count": 198,
      "metadata": {
        "id": "lc7CUpU3j9RH"
      },
      "outputs": [],
      "source": [
        "# earlystopping은 10번 epoch통안 val_loss 개선이 없다면 학습을 멈춥니다.\n",
        "earlystopping = EarlyStopping(monitor='val_loss', patience=10)\n",
        "# val_loss 기준 체크포인터도 생성합니다.\n",
        "filename = os.path.join('tmp', 'ckeckpointer.ckpt')\n",
        "checkpoint = ModelCheckpoint(filename, \n",
        "                             save_weights_only=True, \n",
        "                             save_best_only=True, \n",
        "                             monitor='val_loss', \n",
        "                             verbose=1)"
      ]
    },
    {
      "cell_type": "markdown",
      "source": [
        "모델을 구성했으면 이제 model.fit함수로 모델을 훈련시키자\n",
        "\n",
        "epochs 는 훈련 횟수이며 나머지는 건들필요 없다\n",
        "\n",
        "훈련 횟수 크게해도 오차정도가 변하지 않으면 알아서 모델은 멈출거임"
      ],
      "metadata": {
        "id": "-Xgywfp043hq"
      }
    },
    {
      "cell_type": "code",
      "execution_count": 204,
      "metadata": {
        "colab": {
          "base_uri": "https://localhost:8080/"
        },
        "outputId": "b4ebe7fd-1f28-4851-9b3d-c08c2ca3095f",
        "id": "ihB8GPylj9RI"
      },
      "outputs": [
        {
          "output_type": "stream",
          "name": "stdout",
          "text": [
            "Epoch 1/509\n",
            "      5/Unknown - 0s 16ms/step - loss: 0.0114 - mse: 0.0229\n",
            "Epoch 1: val_loss improved from 0.01264 to 0.01243, saving model to tmp/ckeckpointer.ckpt\n",
            "6/6 [==============================] - 0s 42ms/step - loss: 0.0138 - mse: 0.0276 - val_loss: 0.0124 - val_mse: 0.0249\n",
            "Epoch 2/509\n",
            "6/6 [==============================] - ETA: 0s - loss: 0.0133 - mse: 0.0266\n",
            "Epoch 2: val_loss did not improve from 0.01243\n",
            "6/6 [==============================] - 0s 17ms/step - loss: 0.0133 - mse: 0.0266 - val_loss: 0.0124 - val_mse: 0.0249\n",
            "Epoch 3/509\n",
            "1/6 [====>.........................] - ETA: 0s - loss: 0.0076 - mse: 0.0153\n",
            "Epoch 3: val_loss did not improve from 0.01243\n",
            "6/6 [==============================] - 0s 14ms/step - loss: 0.0129 - mse: 0.0258 - val_loss: 0.0131 - val_mse: 0.0262\n",
            "Epoch 4/509\n",
            "1/6 [====>.........................] - ETA: 0s - loss: 0.0137 - mse: 0.0273\n",
            "Epoch 4: val_loss did not improve from 0.01243\n",
            "6/6 [==============================] - 0s 15ms/step - loss: 0.0126 - mse: 0.0252 - val_loss: 0.0134 - val_mse: 0.0268\n",
            "Epoch 5/509\n",
            "1/6 [====>.........................] - ETA: 0s - loss: 0.0227 - mse: 0.0454\n",
            "Epoch 5: val_loss improved from 0.01243 to 0.01225, saving model to tmp/ckeckpointer.ckpt\n",
            "6/6 [==============================] - 0s 20ms/step - loss: 0.0124 - mse: 0.0248 - val_loss: 0.0123 - val_mse: 0.0245\n",
            "Epoch 6/509\n",
            "1/6 [====>.........................] - ETA: 0s - loss: 0.0167 - mse: 0.0334\n",
            "Epoch 6: val_loss did not improve from 0.01225\n",
            "6/6 [==============================] - 0s 14ms/step - loss: 0.0128 - mse: 0.0256 - val_loss: 0.0134 - val_mse: 0.0268\n",
            "Epoch 7/509\n",
            "1/6 [====>.........................] - ETA: 0s - loss: 0.0222 - mse: 0.0443\n",
            "Epoch 7: val_loss did not improve from 0.01225\n",
            "6/6 [==============================] - 0s 14ms/step - loss: 0.0130 - mse: 0.0259 - val_loss: 0.0127 - val_mse: 0.0253\n",
            "Epoch 8/509\n",
            "1/6 [====>.........................] - ETA: 0s - loss: 0.0172 - mse: 0.0344\n",
            "Epoch 8: val_loss improved from 0.01225 to 0.01166, saving model to tmp/ckeckpointer.ckpt\n",
            "6/6 [==============================] - 0s 18ms/step - loss: 0.0144 - mse: 0.0288 - val_loss: 0.0117 - val_mse: 0.0233\n",
            "Epoch 9/509\n",
            "1/6 [====>.........................] - ETA: 0s - loss: 0.0157 - mse: 0.0314\n",
            "Epoch 9: val_loss did not improve from 0.01166\n",
            "6/6 [==============================] - 0s 14ms/step - loss: 0.0148 - mse: 0.0296 - val_loss: 0.0135 - val_mse: 0.0270\n",
            "Epoch 10/509\n",
            "1/6 [====>.........................] - ETA: 0s - loss: 0.0144 - mse: 0.0288\n",
            "Epoch 10: val_loss improved from 0.01166 to 0.01151, saving model to tmp/ckeckpointer.ckpt\n",
            "6/6 [==============================] - 0s 17ms/step - loss: 0.0115 - mse: 0.0230 - val_loss: 0.0115 - val_mse: 0.0230\n",
            "Epoch 11/509\n",
            "1/6 [====>.........................] - ETA: 0s - loss: 0.0168 - mse: 0.0335\n",
            "Epoch 11: val_loss did not improve from 0.01151\n",
            "6/6 [==============================] - 0s 13ms/step - loss: 0.0131 - mse: 0.0261 - val_loss: 0.0128 - val_mse: 0.0257\n",
            "Epoch 12/509\n",
            "1/6 [====>.........................] - ETA: 0s - loss: 0.0094 - mse: 0.0188\n",
            "Epoch 12: val_loss did not improve from 0.01151\n",
            "6/6 [==============================] - 0s 13ms/step - loss: 0.0115 - mse: 0.0230 - val_loss: 0.0126 - val_mse: 0.0251\n",
            "Epoch 13/509\n",
            "1/6 [====>.........................] - ETA: 0s - loss: 0.0121 - mse: 0.0242\n",
            "Epoch 13: val_loss did not improve from 0.01151\n",
            "6/6 [==============================] - 0s 13ms/step - loss: 0.0111 - mse: 0.0223 - val_loss: 0.0119 - val_mse: 0.0238\n",
            "Epoch 14/509\n",
            "1/6 [====>.........................] - ETA: 0s - loss: 0.0114 - mse: 0.0229\n",
            "Epoch 14: val_loss did not improve from 0.01151\n",
            "6/6 [==============================] - 0s 12ms/step - loss: 0.0112 - mse: 0.0224 - val_loss: 0.0120 - val_mse: 0.0241\n",
            "Epoch 15/509\n",
            "1/6 [====>.........................] - ETA: 0s - loss: 0.0123 - mse: 0.0246\n",
            "Epoch 15: val_loss did not improve from 0.01151\n",
            "6/6 [==============================] - 0s 13ms/step - loss: 0.0110 - mse: 0.0220 - val_loss: 0.0130 - val_mse: 0.0261\n",
            "Epoch 16/509\n",
            "1/6 [====>.........................] - ETA: 0s - loss: 0.0089 - mse: 0.0178\n",
            "Epoch 16: val_loss did not improve from 0.01151\n",
            "6/6 [==============================] - 0s 13ms/step - loss: 0.0109 - mse: 0.0217 - val_loss: 0.0125 - val_mse: 0.0250\n",
            "Epoch 17/509\n",
            "1/6 [====>.........................] - ETA: 0s - loss: 0.0138 - mse: 0.0277\n",
            "Epoch 17: val_loss did not improve from 0.01151\n",
            "6/6 [==============================] - 0s 13ms/step - loss: 0.0107 - mse: 0.0215 - val_loss: 0.0116 - val_mse: 0.0232\n",
            "Epoch 18/509\n",
            "1/6 [====>.........................] - ETA: 0s - loss: 0.0228 - mse: 0.0456\n",
            "Epoch 18: val_loss did not improve from 0.01151\n",
            "6/6 [==============================] - 0s 13ms/step - loss: 0.0108 - mse: 0.0216 - val_loss: 0.0115 - val_mse: 0.0231\n",
            "Epoch 19/509\n",
            "1/6 [====>.........................] - ETA: 0s - loss: 0.0030 - mse: 0.0059\n",
            "Epoch 19: val_loss did not improve from 0.01151\n",
            "6/6 [==============================] - 0s 14ms/step - loss: 0.0107 - mse: 0.0214 - val_loss: 0.0128 - val_mse: 0.0257\n",
            "Epoch 20/509\n",
            "1/6 [====>.........................] - ETA: 0s - loss: 0.0085 - mse: 0.0170\n",
            "Epoch 20: val_loss did not improve from 0.01151\n",
            "6/6 [==============================] - 0s 13ms/step - loss: 0.0106 - mse: 0.0212 - val_loss: 0.0120 - val_mse: 0.0240\n"
          ]
        }
      ],
      "source": [
        "history = model.fit(train_data, \n",
        "                    validation_data=(test_data), \n",
        "                    epochs=509, \n",
        "                    callbacks=[checkpoint, earlystopping])"
      ]
    },
    {
      "cell_type": "markdown",
      "metadata": {
        "id": "LsYZ11-4j9RI"
      },
      "source": [
        "저장한 ModelCheckpoint 를 로드합니다."
      ]
    },
    {
      "cell_type": "code",
      "execution_count": 200,
      "metadata": {
        "colab": {
          "base_uri": "https://localhost:8080/"
        },
        "id": "RoPIDRSo32f-",
        "outputId": "7f3e3f2c-beab-4f48-c673-78527e9a9460"
      },
      "outputs": [
        {
          "output_type": "execute_result",
          "data": {
            "text/plain": [
              "<tensorflow.python.training.tracking.util.CheckpointLoadStatus at 0x7f0958295be0>"
            ]
          },
          "metadata": {},
          "execution_count": 200
        }
      ],
      "source": [
        "model.load_weights(filename)"
      ]
    },
    {
      "cell_type": "markdown",
      "metadata": {
        "id": "dVwLwIxXj9RJ"
      },
      "source": [
        "`test_data`를 활용하여 예측을 진행합니다."
      ]
    },
    {
      "cell_type": "code",
      "execution_count": 201,
      "metadata": {
        "colab": {
          "base_uri": "https://localhost:8080/"
        },
        "id": "WxAxSLNL0l8Z",
        "outputId": "6ec13563-671c-481e-a260-be17aaa3ee48"
      },
      "outputs": [
        {
          "output_type": "stream",
          "name": "stderr",
          "text": [
            "WARNING:tensorflow:6 out of the last 7 calls to <function Model.make_predict_function.<locals>.predict_function at 0x7f0958291ee0> triggered tf.function retracing. Tracing is expensive and the excessive number of tracings could be due to (1) creating @tf.function repeatedly in a loop, (2) passing tensors with different shapes, (3) passing Python objects instead of tensors. For (1), please define your @tf.function outside of the loop. For (2), @tf.function has reduce_retracing=True option that can avoid unnecessary retracing. For (3), please refer to https://www.tensorflow.org/guide/function#controlling_retracing and https://www.tensorflow.org/api_docs/python/tf/function for  more details.\n"
          ]
        },
        {
          "output_type": "stream",
          "name": "stdout",
          "text": [
            "1/1 [==============================] - 0s 340ms/step\n"
          ]
        }
      ],
      "source": [
        "pred = model.predict(test_data)"
      ]
    },
    {
      "cell_type": "code",
      "execution_count": 202,
      "metadata": {
        "colab": {
          "base_uri": "https://localhost:8080/"
        },
        "id": "yMPXjSQ10l8d",
        "outputId": "706dc715-5679-4bb2-91ba-78d7f2cd5c7d"
      },
      "outputs": [
        {
          "output_type": "execute_result",
          "data": {
            "text/plain": [
              "(32, 1)"
            ]
          },
          "metadata": {},
          "execution_count": 202
        }
      ],
      "source": [
        "pred.shape"
      ]
    },
    {
      "cell_type": "markdown",
      "metadata": {
        "id": "jaWpXnQf6zMt"
      },
      "source": [
        "## 예측 데이터 시각화"
      ]
    },
    {
      "cell_type": "markdown",
      "source": [
        "이 내용은 앞으로 바꿀 내용인데 그러려니 하고 넘어가자"
      ],
      "metadata": {
        "id": "mpYuF5za5YEd"
      }
    },
    {
      "cell_type": "markdown",
      "metadata": {
        "id": "MtaAy1jAj9RL"
      },
      "source": [
        "아래 시각화 코드중 y_test 데이터에 **[20:]**으로 슬라이싱을 한 이유는\n",
        "\n",
        "예측 데이터에서 20일치의 데이터로 21일치를 예측해야하기 때문에 test_data로 예측 시 *앞의 20일은 예측하지 않습니다.*\n",
        "\n",
        "따라서, 20번 째 index와 비교하면 더욱 정확합니다."
      ]
    },
    {
      "cell_type": "code",
      "execution_count": 208,
      "metadata": {
        "colab": {
          "base_uri": "https://localhost:8080/",
          "height": 537
        },
        "id": "2F4QQ1O_0l8m",
        "outputId": "c6b014ad-5852-417c-9962-d8adba5c4432"
      },
      "outputs": [
        {
          "output_type": "display_data",
          "data": {
            "text/plain": [
              "<Figure size 864x648 with 1 Axes>"
            ],
            "image/png": "[encoded data removed]"
          },
          "metadata": {
            "needs_background": "light"
          }
        }
      ],
      "source": [
        "plt.figure(figsize=(12, 9))\n",
        "plt.plot(np.asarray(y_test)[20:], label='actual')\n",
        "plt.plot(pred, label='prediction')\n",
        "plt.legend()\n",
        "plt.show()"
      ]
    }
  ],
  "metadata": {
    "colab": {
      "name": "LSTM을 활용한 삼성전자 주가예측.ipynb",
      "provenance": []
    },
    "kernelspec": {
      "display_name": "Python 3",
      "language": "python",
      "name": "python3"
    },
    "language_info": {
      "codemirror_mode": {
        "name": "ipython",
        "version": 3
      },
      "file_extension": ".py",
      "mimetype": "text/x-python",
      "name": "python",
      "nbconvert_exporter": "python",
      "pygments_lexer": "ipython3",
      "version": "3.6.10"
    },
    "gpuClass": "standard"
  },
  "nbformat": 4,
  "nbformat_minor": 0
}